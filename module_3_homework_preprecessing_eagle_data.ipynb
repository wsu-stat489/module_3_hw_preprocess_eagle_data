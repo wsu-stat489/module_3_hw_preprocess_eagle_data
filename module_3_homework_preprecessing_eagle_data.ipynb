{
 "cells": [
  {
   "cell_type": "markdown",
   "id": "508b93fc",
   "metadata": {},
   "source": [
    "# Module 3 Homework\n",
    "\n",
    "## Processing Dr. Bergen's Eagle Data\n",
    "\n",
    "Dr. Bergen, Director of the WSU Statistical Consulting Center, has a data processing task for you.  The associated data can be found in the `data` folder of this repository.  \n",
    "\n",
    "Dr. Bergen had the following to say about the data.\n",
    "\n",
    " - One row = one GPS measurement.  \n",
    " - Subsample of 10K GPS points from a couple bald eagles in Iowa. \n",
    " - **Context.** need to use the flight characteristics to perform $k$-means clustering of the flight points.  \n",
    " \n",
    "Variables to be used for clustering include\n",
    "\n",
    "- `KPH` (km per hour; an instantaneous measure of speed; measured by the GPS device);\n",
    "- `Sn` (an average speed; given 2 time points and at locations and something like );\n",
    "- `AGL0` (meters above ground level);\n",
    "- `VerticalRate` (change in AGL between two time points; large negative if descending quickly; large positive if ascending quickly);\n",
    "- `absVR` (absolute value of VerticalRate); and\n",
    "- `abs_angle`c(absolute value of turn angle, in radians; larger values equal more “tortuous”, i.e. twisty flight)\n",
    "\n",
    "All variables except for `VerticalRate` are skewed and all variables need to be mean-centered and standardized prior to clustering.\n",
    "\n",
    "<img src=\"./img/summary_of_features.png\"/>\n",
    "\n",
    "Note that data is \n",
    "\n",
    "- *mean-centered* by subtracting the mean of the column from each entry.\n",
    "- *standardized* by dividing each entry by the standard deviation of the column.\n",
    "\n",
    "### Tasks\n",
    "\n",
    "You need to use the techniques from this modules lectures to perform the following tasks.\n",
    "\n",
    "- Apply `sqrt` transform to `KPH`, `Sn`, `AGL0`, `absVR` and `abs_angle`\n",
    "- Mean-center and standardize transformed variables from above as well as `VerticalRate`\n",
    "- Visualize the transformed features.  Use a [seaborn multi-plot grid](https://seaborn.pydata.org/tutorial/axis_grids.html) to plot all the variables on the same panel.  **HINT.** To make this work, you will need to stack all of the transformed features.\n",
    "\n",
    "Because you are applying the same transformations multiple times, you will perform the task twice, once for each of the method covered in Activity 3.2: (A) `dict` unpacking and (B) Stack, transform, unstack."
   ]
  },
  {
   "cell_type": "markdown",
   "id": "d6b07a08",
   "metadata": {},
   "source": [
    "#### Problem 1\n",
    "\n",
    "First, complete the task using the `dict` unpacking techniques from Lecture 3.5."
   ]
  },
  {
   "cell_type": "code",
   "execution_count": 2,
   "id": "259b917d",
   "metadata": {},
   "outputs": [],
   "source": [
    "# Code for dict unpacking here"
   ]
  },
  {
   "cell_type": "markdown",
   "id": "3cbcc3ad",
   "metadata": {},
   "source": [
    "#### Problem 2\n",
    "\n",
    "Now redo the problem, this time using the $Stack\\rightarrow Transform\\rightarrow Unstack$ technique. "
   ]
  },
  {
   "cell_type": "code",
   "execution_count": 4,
   "id": "458d655e",
   "metadata": {},
   "outputs": [],
   "source": [
    "# Code for Stack/Transform/Unstack here"
   ]
  },
  {
   "cell_type": "markdown",
   "id": "5b26da3d",
   "metadata": {},
   "source": [
    "**Deliverables.** You should keep any code cells you used to test/figure-out the solution, but the end result should be two cells,\n",
    "\n",
    "1. A cell containing all necessary import statements\n",
    "2. A second cell containing all the code and data management in one pipe; along with all other objects used in the pipe.\n",
    "3. A third cell containing all the code needed to create your visualization.\n",
    "\n",
    "Note that these three cells should work independent of the rest of your code: If I restart the kernel and run only these cells, everything should work."
   ]
  }
 ],
 "metadata": {
  "kernelspec": {
   "display_name": "Python 3 (ipykernel)",
   "language": "python",
   "name": "python3"
  },
  "language_info": {
   "codemirror_mode": {
    "name": "ipython",
    "version": 3
   },
   "file_extension": ".py",
   "mimetype": "text/x-python",
   "name": "python",
   "nbconvert_exporter": "python",
   "pygments_lexer": "ipython3",
   "version": "3.9.12"
  }
 },
 "nbformat": 4,
 "nbformat_minor": 5
}
